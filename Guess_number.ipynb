{
  "nbformat": 4,
  "nbformat_minor": 0,
  "metadata": {
    "colab": {
      "provenance": [],
      "authorship_tag": "ABX9TyOBf4vrqSFhDSDf3X88cfDQ",
      "include_colab_link": true
    },
    "kernelspec": {
      "name": "python3",
      "display_name": "Python 3"
    },
    "language_info": {
      "name": "python"
    }
  },
  "cells": [
    {
      "cell_type": "markdown",
      "metadata": {
        "id": "view-in-github",
        "colab_type": "text"
      },
      "source": [
        "<a href=\"https://colab.research.google.com/github/Meriem-DS/Data-Science--Cheat-Sheet/blob/master/Guess_number.ipynb\" target=\"_parent\"><img src=\"https://colab.research.google.com/assets/colab-badge.svg\" alt=\"Open In Colab\"/></a>"
      ]
    },
    {
      "cell_type": "code",
      "execution_count": null,
      "metadata": {
        "id": "cWmC5CdfmOdu"
      },
      "outputs": [],
      "source": []
    },
    {
      "cell_type": "code",
      "source": [
        "import random\n",
        "number = random.randint(1, 10)\n",
        "player_name = input(\"Hello, what is your name? \")\n",
        "number_of_guesses = 0\n",
        "print('I\\'m glad to meet you! {} \\nLet\\'s play a game with you, I will think a number between 1 and 10 then you will guess, alright? \\nDon\\'t forget! You have only 3 chances so guess:'.format(player_name))\n",
        "while number_of_guesses < 3:\n",
        "  guess = int(input())\n",
        "  number_of_guesses += 1\n",
        "  if guess < number:\n",
        "    print('Your estimate is too low, go up a little!')\n",
        "  elif guess > number:\n",
        "    print('Your estimate is too high, go down a bit!')\n",
        "  else:\n",
        "     break\n",
        "if guess == number:\n",
        "  print( 'Congratulations {}, you guessed the number in {} tries!'.format(player_name, number_of_guesses))\n",
        "else:\n",
        "  print('Oups! you have depassed the number of guesses, the number was {}.'.format(number))"
      ],
      "metadata": {
        "colab": {
          "base_uri": "https://localhost:8080/"
        },
        "id": "HpiyS7-wmS89",
        "outputId": "3a7a873f-6d14-4b58-ad53-28fc8bd5ace0"
      },
      "execution_count": 1,
      "outputs": [
        {
          "output_type": "stream",
          "name": "stdout",
          "text": [
            "Hello, what is your name? Meriem\n",
            "I'm glad to meet you! Meriem \n",
            "Let's play a game with you, I will think a number between 1 and 10 then you will guess, alright? \n",
            "Don't forget! You have only 3 chances so guess:\n",
            "2\n",
            "Your estimate is too low, go up a little!\n",
            "5\n",
            "Congratulations Meriem, you guessed the number in 2 tries!\n"
          ]
        }
      ]
    },
    {
      "cell_type": "code",
      "source": [],
      "metadata": {
        "id": "n4iVZFt2me7M"
      },
      "execution_count": null,
      "outputs": []
    }
  ]
}