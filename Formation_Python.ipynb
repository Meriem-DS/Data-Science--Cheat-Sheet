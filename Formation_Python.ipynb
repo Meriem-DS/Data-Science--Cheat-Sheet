{
  "nbformat": 4,
  "nbformat_minor": 0,
  "metadata": {
    "colab": {
      "provenance": [],
      "authorship_tag": "ABX9TyMWmn08pK7QTr8QrM1ptt7P",
      "include_colab_link": true
    },
    "kernelspec": {
      "name": "python3",
      "display_name": "Python 3"
    },
    "language_info": {
      "name": "python"
    }
  },
  "cells": [
    {
      "cell_type": "markdown",
      "metadata": {
        "id": "view-in-github",
        "colab_type": "text"
      },
      "source": [
        "<a href=\"https://colab.research.google.com/github/Meriem-DS/Data-Science--Cheat-Sheet/blob/master/Formation_Python.ipynb\" target=\"_parent\"><img src=\"https://colab.research.google.com/assets/colab-badge.svg\" alt=\"Open In Colab\"/></a>"
      ]
    },
    {
      "cell_type": "code",
      "source": [
        "#If you do not include any return statement in function, it automatically returns None. So, in Python function always returns a value.\n",
        "def display():\n",
        "  x=0\n",
        "  x+=1\n",
        "\n",
        "print(display())\n"
      ],
      "metadata": {
        "colab": {
          "base_uri": "https://localhost:8080/"
        },
        "id": "hmnmb7WU8Fb8",
        "outputId": "43bc7230-47d1-43e2-f8a6-1985a307a570"
      },
      "execution_count": null,
      "outputs": [
        {
          "output_type": "stream",
          "name": "stdout",
          "text": [
            "None\n"
          ]
        }
      ]
    },
    {
      "cell_type": "code",
      "execution_count": null,
      "metadata": {
        "id": "RbmCKUk_DO9N"
      },
      "outputs": [],
      "source": []
    },
    {
      "cell_type": "markdown",
      "source": [
        "**S1**"
      ],
      "metadata": {
        "id": "gSfaO_baDS7j"
      }
    },
    {
      "cell_type": "code",
      "source": [
        "input(\"entrer votre code\")"
      ],
      "metadata": {
        "colab": {
          "base_uri": "https://localhost:8080/",
          "height": 52
        },
        "id": "k5fDWDShKTIH",
        "outputId": "ef0d4a57-ee68-4245-874d-673faba5a2b2"
      },
      "execution_count": null,
      "outputs": [
        {
          "name": "stdout",
          "output_type": "stream",
          "text": [
            "entrer votre code123\n"
          ]
        },
        {
          "output_type": "execute_result",
          "data": {
            "text/plain": [
              "'123'"
            ],
            "application/vnd.google.colaboratory.intrinsic+json": {
              "type": "string"
            }
          },
          "metadata": {},
          "execution_count": 1
        }
      ]
    },
    {
      "cell_type": "code",
      "source": [
        "1+2+3"
      ],
      "metadata": {
        "id": "ydwiQlTs8fVF"
      },
      "execution_count": null,
      "outputs": []
    },
    {
      "cell_type": "code",
      "source": [
        "s=1\n",
        "a=2\n",
        "b=3\n",
        "print(s+a+b)"
      ],
      "metadata": {
        "colab": {
          "base_uri": "https://localhost:8080/"
        },
        "id": "H6I8F8q78iEu",
        "outputId": "07866a82-4e2c-4681-fb4d-9281fb383297"
      },
      "execution_count": null,
      "outputs": [
        {
          "output_type": "stream",
          "name": "stdout",
          "text": [
            "6\n"
          ]
        }
      ]
    },
    {
      "cell_type": "code",
      "source": [
        "print(\"j'ai\")"
      ],
      "metadata": {
        "colab": {
          "base_uri": "https://localhost:8080/"
        },
        "id": "6s9naR089J4i",
        "outputId": "e288e0af-6c81-40a9-8ab5-a17ff36ad7c6"
      },
      "execution_count": null,
      "outputs": [
        {
          "output_type": "stream",
          "name": "stdout",
          "text": [
            "j'ai\n"
          ]
        }
      ]
    },
    {
      "cell_type": "code",
      "source": [
        "b= \"D\"\n",
        "print(b.lower())"
      ],
      "metadata": {
        "colab": {
          "base_uri": "https://localhost:8080/"
        },
        "id": "JPfuBBJgChM1",
        "outputId": "445edf95-feb7-48cc-ea0c-33321b42ec21"
      },
      "execution_count": null,
      "outputs": [
        {
          "output_type": "stream",
          "name": "stdout",
          "text": [
            "d\n"
          ]
        }
      ]
    },
    {
      "cell_type": "code",
      "source": [
        "b='hello world'\n",
        "b.replace('hello','hy')"
      ],
      "metadata": {
        "colab": {
          "base_uri": "https://localhost:8080/",
          "height": 35
        },
        "id": "fjpRBgL4FrlA",
        "outputId": "ecb92821-1fa4-4244-ef37-6341ba47e1f2"
      },
      "execution_count": null,
      "outputs": [
        {
          "output_type": "execute_result",
          "data": {
            "text/plain": [
              "'hy world'"
            ],
            "application/vnd.google.colaboratory.intrinsic+json": {
              "type": "string"
            }
          },
          "metadata": {},
          "execution_count": 8
        }
      ]
    },
    {
      "cell_type": "code",
      "source": [
        "s=1+1\n",
        "b=2\n",
        "not(s==b)"
      ],
      "metadata": {
        "colab": {
          "base_uri": "https://localhost:8080/"
        },
        "id": "ehBkB2MnH2Lr",
        "outputId": "17fbb4ae-537d-4429-a841-567f50d553e3"
      },
      "execution_count": null,
      "outputs": [
        {
          "output_type": "execute_result",
          "data": {
            "text/plain": [
              "False"
            ]
          },
          "metadata": {},
          "execution_count": 12
        }
      ]
    },
    {
      "cell_type": "code",
      "source": [
        "\n",
        "age= 20\n",
        "moyenne=16\n",
        "moyenne > 16 or age=20\n"
      ],
      "metadata": {
        "id": "gCqsMrwwJavM"
      },
      "execution_count": null,
      "outputs": []
    },
    {
      "cell_type": "code",
      "source": [
        "from pickle import FLOAT\n",
        "s='12'\n",
        "float(s)\n"
      ],
      "metadata": {
        "colab": {
          "base_uri": "https://localhost:8080/"
        },
        "id": "t-_TpnuVLLsX",
        "outputId": "6fff08ae-5a17-4d0e-f1e0-faeee06b9230"
      },
      "execution_count": null,
      "outputs": [
        {
          "output_type": "execute_result",
          "data": {
            "text/plain": [
              "12.0"
            ]
          },
          "metadata": {},
          "execution_count": 14
        }
      ]
    },
    {
      "cell_type": "code",
      "source": [
        "print('1'+'1')"
      ],
      "metadata": {
        "id": "QdPgHpnbqtcj",
        "outputId": "e7477de9-b47b-43b6-f362-9ae39c861c6e",
        "colab": {
          "base_uri": "https://localhost:8080/"
        }
      },
      "execution_count": null,
      "outputs": [
        {
          "output_type": "stream",
          "name": "stdout",
          "text": [
            "11\n"
          ]
        }
      ]
    },
    {
      "cell_type": "code",
      "source": [
        "l=[1,2,1]\n",
        "L=[4]\n",
        "l.insert(0,24)\n",
        "\n",
        "\n",
        "l\n"
      ],
      "metadata": {
        "colab": {
          "base_uri": "https://localhost:8080/"
        },
        "id": "EwtpEfLKZSX1",
        "outputId": "aa10835f-f865-4ad9-a720-3f92ba8058dc"
      },
      "execution_count": null,
      "outputs": [
        {
          "output_type": "execute_result",
          "data": {
            "text/plain": [
              "[24, 1, 2, 1]"
            ]
          },
          "metadata": {},
          "execution_count": 10
        }
      ]
    },
    {
      "cell_type": "code",
      "source": [
        "d={1:1,1:2,2:1}\n",
        "del d[1]\n",
        "d"
      ],
      "metadata": {
        "colab": {
          "base_uri": "https://localhost:8080/"
        },
        "id": "ye9BTchlgGTz",
        "outputId": "e09df8f3-38d1-49b1-d53d-997affd8a939"
      },
      "execution_count": null,
      "outputs": [
        {
          "output_type": "execute_result",
          "data": {
            "text/plain": [
              "{2: 1}"
            ]
          },
          "metadata": {},
          "execution_count": 11
        }
      ]
    },
    {
      "cell_type": "code",
      "source": [
        "c='12 3'\n",
        "d=c.split()\n",
        "\"X\".join(d)\n",
        "d[0:2]"
      ],
      "metadata": {
        "colab": {
          "base_uri": "https://localhost:8080/"
        },
        "id": "SJu_LKGnKlQF",
        "outputId": "978fcc19-16a5-4148-bde2-5e824e7827e0"
      },
      "execution_count": null,
      "outputs": [
        {
          "output_type": "execute_result",
          "data": {
            "text/plain": [
              "['12', '3']"
            ]
          },
          "metadata": {},
          "execution_count": 12
        }
      ]
    },
    {
      "cell_type": "code",
      "source": [
        "L=[1,[\"a\",'b']]\n",
        "L[1][0]"
      ],
      "metadata": {
        "colab": {
          "base_uri": "https://localhost:8080/",
          "height": 35
        },
        "id": "Qd2gc1V2LnV3",
        "outputId": "9807c204-3e56-4cf4-8618-4c97f6cdc5a0"
      },
      "execution_count": null,
      "outputs": [
        {
          "output_type": "execute_result",
          "data": {
            "text/plain": [
              "'a'"
            ],
            "application/vnd.google.colaboratory.intrinsic+json": {
              "type": "string"
            }
          },
          "metadata": {},
          "execution_count": 13
        }
      ]
    },
    {
      "cell_type": "code",
      "source": [
        "a=int(input(\"entrer une valeur\"))\n",
        "b=int(input(\"entrer une valeur\"))\n",
        "c=int(input(\"entrer une valeur\"))\n",
        "L=[]\n",
        "L.append(a)\n",
        "L.append(b)\n",
        "L.append(c)\n",
        "L.sort()"
      ],
      "metadata": {
        "colab": {
          "base_uri": "https://localhost:8080/"
        },
        "id": "EQ9KwqaXNaNb",
        "outputId": "c99d37c4-32dd-4f64-afe7-aae5ec29c522"
      },
      "execution_count": null,
      "outputs": [
        {
          "name": "stdout",
          "output_type": "stream",
          "text": [
            "entrer une valeur5\n",
            "entrer une valeur8\n",
            "entrer une valeur20\n"
          ]
        }
      ]
    },
    {
      "cell_type": "code",
      "source": [
        "L.reverse()\n",
        "L"
      ],
      "metadata": {
        "colab": {
          "base_uri": "https://localhost:8080/"
        },
        "id": "W8D1yQYRNgap",
        "outputId": "67de443f-7cee-41ac-9151-78328412dd6a"
      },
      "execution_count": null,
      "outputs": [
        {
          "output_type": "execute_result",
          "data": {
            "text/plain": [
              "[20, 8, 5]"
            ]
          },
          "metadata": {},
          "execution_count": 16
        }
      ]
    },
    {
      "cell_type": "code",
      "source": [
        "L[0]=\"UES\"\n",
        "L"
      ],
      "metadata": {
        "colab": {
          "base_uri": "https://localhost:8080/"
        },
        "id": "NMiQVC6aRGbb",
        "outputId": "57777f52-25d7-463b-f4ae-f75e79cb00c6"
      },
      "execution_count": null,
      "outputs": [
        {
          "output_type": "execute_result",
          "data": {
            "text/plain": [
              "['UES',\n",
              " 'Fevrier',\n",
              " 'Mars',\n",
              " 'Avril',\n",
              " 'Mai',\n",
              " 'Juin',\n",
              " 'Juillet',\n",
              " 'Aout',\n",
              " 'Septembre',\n",
              " 'Octobre',\n",
              " 'Novembre',\n",
              " 'Decembre']"
            ]
          },
          "metadata": {},
          "execution_count": 22
        }
      ]
    },
    {
      "cell_type": "code",
      "source": [
        "L=[\"A\",[\"B\",1],\"C\"]\n",
        "L=L[1][0:2]\n",
        "L"
      ],
      "metadata": {
        "colab": {
          "base_uri": "https://localhost:8080/"
        },
        "id": "i_SedtrlSqvw",
        "outputId": "6717dd5f-52b6-40d7-dfff-75bca6e09337"
      },
      "execution_count": null,
      "outputs": [
        {
          "output_type": "execute_result",
          "data": {
            "text/plain": [
              "['B', 1]"
            ]
          },
          "metadata": {},
          "execution_count": 24
        }
      ]
    },
    {
      "cell_type": "code",
      "source": [
        "len([\"Python\", 1, \"Formation\"])"
      ],
      "metadata": {
        "colab": {
          "base_uri": "https://localhost:8080/"
        },
        "id": "K0r72BMdTvDb",
        "outputId": "70d06e57-147e-4c88-ae94-35a35fd1bd75"
      },
      "execution_count": null,
      "outputs": [
        {
          "output_type": "execute_result",
          "data": {
            "text/plain": [
              "3"
            ]
          },
          "metadata": {},
          "execution_count": 29
        }
      ]
    },
    {
      "cell_type": "code",
      "source": [
        "type(L)"
      ],
      "metadata": {
        "colab": {
          "base_uri": "https://localhost:8080/"
        },
        "id": "BsaP-7EjUGiN",
        "outputId": "b5f95a4a-e126-4587-d7b2-c93fc46e724f"
      },
      "execution_count": null,
      "outputs": [
        {
          "output_type": "execute_result",
          "data": {
            "text/plain": [
              "list"
            ]
          },
          "metadata": {},
          "execution_count": 30
        }
      ]
    },
    {
      "cell_type": "code",
      "source": [
        "L= [1,2,3,4]\n",
        "F=L[0:3]\n",
        "F"
      ],
      "metadata": {
        "colab": {
          "base_uri": "https://localhost:8080/"
        },
        "id": "cY71IO7-VVjE",
        "outputId": "23df2639-730b-4f2e-fece-eea921b6bf56"
      },
      "execution_count": null,
      "outputs": [
        {
          "output_type": "execute_result",
          "data": {
            "text/plain": [
              "[1, 2, 3]"
            ]
          },
          "metadata": {},
          "execution_count": 31
        }
      ]
    },
    {
      "cell_type": "code",
      "source": [
        "placard = {\"chemise\":3, \"pantalon\":6, \"tee shirt\":7,\"chemise\":2}\n",
        "placard.pop(\"chemise\")\n",
        "placard"
      ],
      "metadata": {
        "colab": {
          "base_uri": "https://localhost:8080/"
        },
        "id": "ePPGFmYUXCAt",
        "outputId": "592fdab3-b2e0-47ff-913a-f0b309df4bc6"
      },
      "execution_count": null,
      "outputs": [
        {
          "output_type": "execute_result",
          "data": {
            "text/plain": [
              "{'pantalon': 6, 'tee shirt': 7}"
            ]
          },
          "metadata": {},
          "execution_count": 35
        }
      ]
    },
    {
      "cell_type": "code",
      "source": [],
      "metadata": {
        "id": "L7sgki_oYnJ9"
      },
      "execution_count": null,
      "outputs": []
    },
    {
      "cell_type": "code",
      "source": [],
      "metadata": {
        "id": "KHXlw5A1YnQE"
      },
      "execution_count": null,
      "outputs": []
    },
    {
      "cell_type": "code",
      "source": [],
      "metadata": {
        "id": "Tjv0-GVWYnS-"
      },
      "execution_count": null,
      "outputs": []
    },
    {
      "cell_type": "code",
      "source": [],
      "metadata": {
        "id": "RzkIRTCpYnVs"
      },
      "execution_count": null,
      "outputs": []
    },
    {
      "cell_type": "code",
      "source": [],
      "metadata": {
        "id": "0JSi9kAkYnYW"
      },
      "execution_count": null,
      "outputs": []
    },
    {
      "cell_type": "code",
      "source": [],
      "metadata": {
        "id": "QR-lZlRmYna7"
      },
      "execution_count": null,
      "outputs": []
    },
    {
      "cell_type": "code",
      "source": [
        "num1= int(input(\"entrer nombre1\")) # int('5')==> 5\n",
        "num2= int(input(\"entrer un nombre2\"))\n",
        "print(\"Somme\",num1+num2)\n"
      ],
      "metadata": {
        "colab": {
          "base_uri": "https://localhost:8080/"
        },
        "id": "0qYjCht3YoEK",
        "outputId": "c6b2d830-cd82-4889-f9eb-f00d864a9d57"
      },
      "execution_count": null,
      "outputs": [
        {
          "output_type": "stream",
          "name": "stdout",
          "text": [
            "entrer nombre11\n",
            "entrer un nombre22\n",
            "Somme+num1+num2 3\n"
          ]
        }
      ]
    },
    {
      "cell_type": "code",
      "source": [
        "L= [\"Python\", 1]\n",
        "L.extend([2,3])\n",
        "L"
      ],
      "metadata": {
        "colab": {
          "base_uri": "https://localhost:8080/"
        },
        "id": "D2Wl2pR855Ho",
        "outputId": "7f0473f6-1924-495c-87bb-0094ec3073e9"
      },
      "execution_count": null,
      "outputs": [
        {
          "output_type": "execute_result",
          "data": {
            "text/plain": [
              "['Python', 1, 2, 3]"
            ]
          },
          "metadata": {},
          "execution_count": 13
        }
      ]
    },
    {
      "cell_type": "code",
      "source": [
        "L=[\"A\",\"B\",\"C\",\"B\",1]\n",
        "L.pop()"
      ],
      "metadata": {
        "colab": {
          "base_uri": "https://localhost:8080/"
        },
        "id": "s9QBxy0yG5Po",
        "outputId": "f2189b7a-a723-460c-829e-856b19d3f225"
      },
      "execution_count": null,
      "outputs": [
        {
          "output_type": "execute_result",
          "data": {
            "text/plain": [
              "1"
            ]
          },
          "metadata": {},
          "execution_count": 17
        }
      ]
    },
    {
      "cell_type": "code",
      "source": [
        "L"
      ],
      "metadata": {
        "colab": {
          "base_uri": "https://localhost:8080/"
        },
        "id": "zT_FyYRLHCPG",
        "outputId": "22291219-8a6b-408b-d11e-be3fd9e95cd0"
      },
      "execution_count": null,
      "outputs": [
        {
          "output_type": "execute_result",
          "data": {
            "text/plain": [
              "['A', 'B', 'C', 'B']"
            ]
          },
          "metadata": {},
          "execution_count": 18
        }
      ]
    },
    {
      "cell_type": "code",
      "source": [
        "L=[\"A\",\"B\",\"C\",\"B\",1]\n",
        "L.count(\"A\")"
      ],
      "metadata": {
        "colab": {
          "base_uri": "https://localhost:8080/"
        },
        "id": "VTGUswG-H6pk",
        "outputId": "4edfade1-3922-4b6f-ca8f-70d203ed55ac"
      },
      "execution_count": null,
      "outputs": [
        {
          "output_type": "execute_result",
          "data": {
            "text/plain": [
              "1"
            ]
          },
          "metadata": {},
          "execution_count": 28
        }
      ]
    },
    {
      "cell_type": "code",
      "source": [
        "L=[20,50,1,80,]\n",
        "L.reverse()\n",
        "L\n"
      ],
      "metadata": {
        "colab": {
          "base_uri": "https://localhost:8080/"
        },
        "id": "fykPe719JwF-",
        "outputId": "c1b16329-044a-4801-9821-36a82f4e333b"
      },
      "execution_count": null,
      "outputs": [
        {
          "output_type": "execute_result",
          "data": {
            "text/plain": [
              "[80, 1, 50, 20]"
            ]
          },
          "metadata": {},
          "execution_count": 26
        }
      ]
    },
    {
      "cell_type": "code",
      "source": [
        "Dic={\"position1\":3Py}"
      ],
      "metadata": {
        "id": "P-EYavJbLaM1"
      },
      "execution_count": null,
      "outputs": []
    },
    {
      "cell_type": "code",
      "source": [
        "d={\"Pyton\": 1, \"Game\": 2}\n"
      ],
      "metadata": {
        "id": "DseNIRyqRhab"
      },
      "execution_count": null,
      "outputs": []
    },
    {
      "cell_type": "code",
      "source": [
        "d.keys()"
      ],
      "metadata": {
        "colab": {
          "base_uri": "https://localhost:8080/"
        },
        "id": "HhzLAggnRorI",
        "outputId": "63f77bb0-22e8-4b8c-c7dc-46e96337e727"
      },
      "execution_count": null,
      "outputs": [
        {
          "output_type": "execute_result",
          "data": {
            "text/plain": [
              "dict_keys(['Pyton', 'Game'])"
            ]
          },
          "metadata": {},
          "execution_count": 32
        }
      ]
    },
    {
      "cell_type": "code",
      "source": [
        "d[\"Pyton\"]"
      ],
      "metadata": {
        "colab": {
          "base_uri": "https://localhost:8080/"
        },
        "id": "fk_StyVGSaqj",
        "outputId": "cfb20f1d-addc-4677-86ad-886703e06d12"
      },
      "execution_count": null,
      "outputs": [
        {
          "output_type": "execute_result",
          "data": {
            "text/plain": [
              "1"
            ]
          },
          "metadata": {},
          "execution_count": 33
        }
      ]
    },
    {
      "cell_type": "code",
      "source": [
        "d.values()"
      ],
      "metadata": {
        "colab": {
          "base_uri": "https://localhost:8080/"
        },
        "id": "KXhzlaCxS7NH",
        "outputId": "c085a868-134d-4c1a-f681-3d86da523277"
      },
      "execution_count": null,
      "outputs": [
        {
          "output_type": "execute_result",
          "data": {
            "text/plain": [
              "dict_values([1, 2])"
            ]
          },
          "metadata": {},
          "execution_count": 34
        }
      ]
    },
    {
      "cell_type": "code",
      "source": [
        "d={\"Pyton\": 1,\"Game\": 5,\"Pyton\": 2}\n"
      ],
      "metadata": {
        "id": "GlsUhsNUT4HU"
      },
      "execution_count": null,
      "outputs": []
    },
    {
      "cell_type": "code",
      "source": [
        "d.pop(\"Pyton\")\n",
        "d"
      ],
      "metadata": {
        "colab": {
          "base_uri": "https://localhost:8080/"
        },
        "id": "UTnzQ4tgUTjP",
        "outputId": "fec04c12-993d-4bc9-9b27-c6b353e31359"
      },
      "execution_count": null,
      "outputs": [
        {
          "output_type": "execute_result",
          "data": {
            "text/plain": [
              "{'Game': 5}"
            ]
          },
          "metadata": {},
          "execution_count": 50
        }
      ]
    },
    {
      "cell_type": "code",
      "source": [
        "D={}\n",
        "D={\"Nom\": \"NN\", \"Prenom\":\"MM\", \"telephone\": 1}\n",
        "D[\"Nom\"]"
      ],
      "metadata": {
        "colab": {
          "base_uri": "https://localhost:8080/",
          "height": 35
        },
        "id": "6Z2DA85SUwJi",
        "outputId": "6d95cb1a-2fb3-4255-85b5-b7f4c8f89962"
      },
      "execution_count": null,
      "outputs": [
        {
          "output_type": "execute_result",
          "data": {
            "text/plain": [
              "'NN'"
            ],
            "application/vnd.google.colaboratory.intrinsic+json": {
              "type": "string"
            }
          },
          "metadata": {},
          "execution_count": 54
        }
      ]
    },
    {
      "cell_type": "code",
      "source": [
        "a=int(input(\"entrer un nombre\"))\n",
        "b=int(input(\"entrer un nombre\"))\n",
        "c=int(input(\"entrer un nombre\"))\n",
        "L=[]\n",
        "L.append(a)\n",
        "L.append(b)\n",
        "L.append(c)\n",
        "L"
      ],
      "metadata": {
        "colab": {
          "base_uri": "https://localhost:8080/"
        },
        "id": "GxDLaimKY4x4",
        "outputId": "f1a6594e-8aa4-4918-d7cb-f778104426f0"
      },
      "execution_count": null,
      "outputs": [
        {
          "name": "stdout",
          "output_type": "stream",
          "text": [
            "entrer un nombre6\n",
            "entrer un nombre2\n",
            "entrer un nombre4\n"
          ]
        },
        {
          "output_type": "execute_result",
          "data": {
            "text/plain": [
              "[6, 2, 4]"
            ]
          },
          "metadata": {},
          "execution_count": 55
        }
      ]
    },
    {
      "cell_type": "code",
      "source": [
        "L.sort()\n",
        "L"
      ],
      "metadata": {
        "colab": {
          "base_uri": "https://localhost:8080/"
        },
        "id": "Eab4MGoGZgdX",
        "outputId": "55e8593c-0b8e-4a25-e6c3-30eebc65ef44"
      },
      "execution_count": null,
      "outputs": [
        {
          "output_type": "execute_result",
          "data": {
            "text/plain": [
              "[2, 4, 6]"
            ]
          },
          "metadata": {},
          "execution_count": 61
        }
      ]
    },
    {
      "cell_type": "code",
      "source": [
        "L.reverse()\n",
        "L\n"
      ],
      "metadata": {
        "colab": {
          "base_uri": "https://localhost:8080/"
        },
        "id": "kKoHfm_qZSnv",
        "outputId": "a740ffcd-5fd3-4585-b4e6-c0acbcb01eee"
      },
      "execution_count": null,
      "outputs": [
        {
          "output_type": "execute_result",
          "data": {
            "text/plain": [
              "[6, 4, 2]"
            ]
          },
          "metadata": {},
          "execution_count": 62
        }
      ]
    },
    {
      "cell_type": "code",
      "source": [
        "a=[-1, 2023, 5.4, 1]\n",
        "a.sort()\n",
        "print(a[-1])"
      ],
      "metadata": {
        "colab": {
          "base_uri": "https://localhost:8080/"
        },
        "id": "cmi7n0jNe8zB",
        "outputId": "a5c3ce13-b2d0-475b-e95a-24b969503984"
      },
      "execution_count": null,
      "outputs": [
        {
          "output_type": "stream",
          "name": "stdout",
          "text": [
            "2023\n"
          ]
        }
      ]
    },
    {
      "cell_type": "code",
      "source": [
        "D={\"S\": 7896}\n",
        "D[\"S\"]"
      ],
      "metadata": {
        "colab": {
          "base_uri": "https://localhost:8080/"
        },
        "id": "m0jOSfLei9tO",
        "outputId": "3e105e79-59b9-4fa9-9b30-feb64b745566"
      },
      "execution_count": null,
      "outputs": [
        {
          "output_type": "execute_result",
          "data": {
            "text/plain": [
              "7896"
            ]
          },
          "metadata": {},
          "execution_count": 3
        }
      ]
    },
    {
      "cell_type": "code",
      "source": [
        "D.keys()"
      ],
      "metadata": {
        "colab": {
          "base_uri": "https://localhost:8080/"
        },
        "id": "Qjd-tvBkjtz6",
        "outputId": "97873e00-8ac0-43e6-b0e7-cda2fd257214"
      },
      "execution_count": null,
      "outputs": [
        {
          "output_type": "execute_result",
          "data": {
            "text/plain": [
              "dict_keys(['S'])"
            ]
          },
          "metadata": {},
          "execution_count": 5
        }
      ]
    },
    {
      "cell_type": "code",
      "source": [
        "D[\"m\"]=\"MM\"\n",
        "D"
      ],
      "metadata": {
        "colab": {
          "base_uri": "https://localhost:8080/"
        },
        "id": "lZjQu3Y8j7wz",
        "outputId": "3eb35c83-39e2-497a-ddd6-b5b76b3253a3"
      },
      "execution_count": null,
      "outputs": [
        {
          "output_type": "execute_result",
          "data": {
            "text/plain": [
              "{'S': 'MM', 'm': 'MM'}"
            ]
          },
          "metadata": {},
          "execution_count": 7
        }
      ]
    },
    {
      "cell_type": "code",
      "source": [
        "D.pop('m')"
      ],
      "metadata": {
        "colab": {
          "base_uri": "https://localhost:8080/",
          "height": 36
        },
        "id": "2EkqvF2pkJbR",
        "outputId": "501b52e8-2c86-4dba-9e1c-30b5c69f0d6e"
      },
      "execution_count": null,
      "outputs": [
        {
          "output_type": "execute_result",
          "data": {
            "text/plain": [
              "'MM'"
            ],
            "application/vnd.google.colaboratory.intrinsic+json": {
              "type": "string"
            }
          },
          "metadata": {},
          "execution_count": 8
        }
      ]
    },
    {
      "cell_type": "code",
      "source": [
        "D"
      ],
      "metadata": {
        "colab": {
          "base_uri": "https://localhost:8080/"
        },
        "id": "2HiII8gtkQXE",
        "outputId": "4935ebdd-8bfb-40b4-b43e-3dd2509cb8fd"
      },
      "execution_count": null,
      "outputs": [
        {
          "output_type": "execute_result",
          "data": {
            "text/plain": [
              "{'S': 'MM'}"
            ]
          },
          "metadata": {},
          "execution_count": 9
        }
      ]
    },
    {
      "cell_type": "code",
      "source": [
        "#poids=float(input(\"poids en kg :\"))\n",
        "#taille=float(input(\"taille en m :\"))\n",
        "imc=40\n",
        "print (\"imc=\",imc)\n",
        "if imc<18:\n",
        "\tprint (\"maigre\")\n",
        "elif imc<25:\n",
        "\tprint (\"normal\")\n",
        "elif imc<30:\n",
        "\tprint (\"surpoids\")\n",
        "else:\n",
        "  print(\"obeseité\")"
      ],
      "metadata": {
        "colab": {
          "base_uri": "https://localhost:8080/"
        },
        "id": "QjSlH-ctp0ku",
        "outputId": "5faa876a-b857-42f9-c50f-508a8ce661b7"
      },
      "execution_count": null,
      "outputs": [
        {
          "output_type": "stream",
          "name": "stdout",
          "text": [
            "imc= 40\n",
            "obeseité\n"
          ]
        }
      ]
    },
    {
      "cell_type": "code",
      "source": [
        "n = int(input(\"Entrez un entier strictement positif :\"))\n",
        "while n < 1:\n",
        "    n = int(input(\"Entrez un entier STRICTEMENT POSITIF, s.v.p. :\"))\n",
        "save = n\n",
        "\n",
        "cpt = 0\n",
        "while n % 2 == 0:\n",
        "    n = n/2  #n /=2\n",
        "    cpt += 1\n",
        "\n",
        "print(save, \"est\", cpt, \"fois divisible par 2.\")"
      ],
      "metadata": {
        "colab": {
          "base_uri": "https://localhost:8080/"
        },
        "id": "jikQr-apvW6E",
        "outputId": "4d1f9894-6fac-44df-c688-89ab5b3488df"
      },
      "execution_count": null,
      "outputs": [
        {
          "output_type": "stream",
          "name": "stdout",
          "text": [
            "Entrez un entier strictement positif :8\n",
            "8 est 3 fois divisible par 2.\n"
          ]
        }
      ]
    },
    {
      "cell_type": "code",
      "source": [
        "L=[]\n",
        "for i in range(1,5,2):\n",
        "  L.append(i)\n",
        "L\n"
      ],
      "metadata": {
        "colab": {
          "base_uri": "https://localhost:8080/"
        },
        "id": "CHkSvAYdwzxf",
        "outputId": "d537e446-9c34-41bb-b74b-e35f6d6c05a1"
      },
      "execution_count": null,
      "outputs": [
        {
          "output_type": "execute_result",
          "data": {
            "text/plain": [
              "[1, 3]"
            ]
          },
          "metadata": {},
          "execution_count": 34
        }
      ]
    },
    {
      "cell_type": "code",
      "source": [
        "L=[]\n",
        "for i in range(5,1,-2):\n",
        "  L.append(i)\n",
        "L"
      ],
      "metadata": {
        "colab": {
          "base_uri": "https://localhost:8080/"
        },
        "id": "rltIzAMGyFk_",
        "outputId": "d5f82f00-ef6b-4336-ee6f-3b18082ef545"
      },
      "execution_count": null,
      "outputs": [
        {
          "output_type": "execute_result",
          "data": {
            "text/plain": [
              "[]"
            ]
          },
          "metadata": {},
          "execution_count": 36
        }
      ]
    },
    {
      "cell_type": "code",
      "source": [
        "import random\n",
        "score=0\n",
        "for i in range(3):\n",
        "  num1=random.randint(0,10)\n",
        "  num2=random.randint(0,10)\n",
        "  c=int(input(str(num1)+'*'+str(num2)+'='+'?'))\n",
        "  if num1*num2==c:\n",
        "    score+=1\n",
        "    print(\"congratulation your score of this round\"+'('+str(i)+')'+\"is\"+str(score))\n",
        "  else:\n",
        "    score-=1\n",
        "    print(\"Oups! your score of this round\"+'('+str(i)+')'+\"is\"+str(score))\n",
        "print(\"Your Final score is\"+ str(score))\n"
      ],
      "metadata": {
        "colab": {
          "base_uri": "https://localhost:8080/"
        },
        "id": "syjFDw-a1qE-",
        "outputId": "87f8bd4d-babb-4afb-cb32-31508724bb7a"
      },
      "execution_count": null,
      "outputs": [
        {
          "output_type": "stream",
          "name": "stdout",
          "text": [
            "7*8=?1\n",
            "Oups! your score of this round(0)is-1\n",
            "0*5=?0\n",
            "congratulation your score of this round(1)is0\n",
            "2*2=?4\n",
            "congratulation your score of this round(2)is1\n",
            "Your Final score is1\n"
          ]
        }
      ]
    },
    {
      "cell_type": "code",
      "source": [],
      "metadata": {
        "id": "htnvPW-28FJr"
      },
      "execution_count": null,
      "outputs": []
    },
    {
      "cell_type": "code",
      "source": [],
      "metadata": {
        "id": "cKONr0ya8FTj"
      },
      "execution_count": null,
      "outputs": []
    },
    {
      "cell_type": "code",
      "source": [
        "d = [ 1, 2, 7,10,0]\n",
        "d.sort()\n",
        "d\n",
        "d[-1]"
      ],
      "metadata": {
        "colab": {
          "base_uri": "https://localhost:8080/"
        },
        "id": "vPB4mbvq30RS",
        "outputId": "8b4acb24-4192-4e0b-8267-c7aebf8ace53"
      },
      "execution_count": 2,
      "outputs": [
        {
          "output_type": "execute_result",
          "data": {
            "text/plain": [
              "10"
            ]
          },
          "metadata": {},
          "execution_count": 2
        }
      ]
    },
    {
      "cell_type": "code",
      "source": [
        "L=[]\n",
        "for i in range (3):\n",
        "  d=int(input(\"entrer un nombre\"))\n",
        "  L.append(d)\n",
        "\n",
        "L"
      ],
      "metadata": {
        "colab": {
          "base_uri": "https://localhost:8080/"
        },
        "id": "ckcoORO16ye3",
        "outputId": "a3a7e1cc-07c0-48e4-dded-2d17ffd78972"
      },
      "execution_count": 32,
      "outputs": [
        {
          "name": "stdout",
          "output_type": "stream",
          "text": [
            "entrer un nombre5\n",
            "entrer un nombre2\n",
            "entrer un nombre3\n"
          ]
        },
        {
          "output_type": "execute_result",
          "data": {
            "text/plain": [
              "[5, 2, 3]"
            ]
          },
          "metadata": {},
          "execution_count": 32
        }
      ]
    },
    {
      "cell_type": "markdown",
      "source": [],
      "metadata": {
        "id": "IskzT0K06aZU"
      }
    },
    {
      "cell_type": "code",
      "source": [
        "repertoire={\"Parisien\":77777777, \"POLE\": 7777}\n",
        "repertoire[\"Parisien\"]=77777778\n",
        "repertoire.pop(\"Parisien\")\n",
        "repertoire\n"
      ],
      "metadata": {
        "colab": {
          "base_uri": "https://localhost:8080/"
        },
        "id": "LWNvN2mZ30Ud",
        "outputId": "4f62e0cb-522e-4946-d3da-1d12d52bd85b"
      },
      "execution_count": 12,
      "outputs": [
        {
          "output_type": "execute_result",
          "data": {
            "text/plain": [
              "{'POLE': 7777}"
            ]
          },
          "metadata": {},
          "execution_count": 12
        }
      ]
    },
    {
      "cell_type": "code",
      "source": [
        "X=1\n",
        "\n",
        "Y=3\n",
        "if X>=Y:\n",
        "  X=X-2\n",
        "print(X)"
      ],
      "metadata": {
        "colab": {
          "base_uri": "https://localhost:8080/"
        },
        "id": "b7WgdEKt_MdT",
        "outputId": "a8c764fb-9fbe-4a3e-c8ca-2e6ab4fb3d60"
      },
      "execution_count": 17,
      "outputs": [
        {
          "output_type": "stream",
          "name": "stdout",
          "text": [
            "1\n"
          ]
        }
      ]
    },
    {
      "cell_type": "code",
      "source": [
        "a=4\n",
        "if a>5:\n",
        "  a=a+1 #a+=1\n",
        "elif a==5:\n",
        "  a=a+10000\n",
        "else:\n",
        "  a=a-1\n",
        "print(a)\n"
      ],
      "metadata": {
        "colab": {
          "base_uri": "https://localhost:8080/"
        },
        "id": "BTXvoPaYFd-2",
        "outputId": "80238f0a-d6dc-4ea8-8dab-23a4b8b2fdf8"
      },
      "execution_count": 24,
      "outputs": [
        {
          "output_type": "stream",
          "name": "stdout",
          "text": [
            "3\n"
          ]
        }
      ]
    },
    {
      "cell_type": "code",
      "source": [
        "weight = float(input(\"Entrez votre poids en kg \"))\n",
        "height= float(input(\"Entrez votre taille en m \"))\n",
        "imc= weight/ (height**2)\n",
        "if imc < 18.5:\n",
        "  print(\"Malnutrition\")\n",
        "elif imc < 25:\n",
        "  print(\"Poids idéal\")\n",
        "elif imc < 30:\n",
        "  print(\"En bon point\")\n",
        "else :\n",
        "  print (\"Obésité\")"
      ],
      "metadata": {
        "id": "YI4zeVVU30YR"
      },
      "execution_count": null,
      "outputs": []
    },
    {
      "cell_type": "code",
      "source": [
        "X=6\n",
        "I=1\n",
        "while X<=5:\n",
        "  X=X+I\n",
        "print(X)"
      ],
      "metadata": {
        "colab": {
          "base_uri": "https://localhost:8080/"
        },
        "id": "Qg7CgoD6WpCi",
        "outputId": "866659ce-79c5-40ea-ab6f-e1f91049b09f"
      },
      "execution_count": 30,
      "outputs": [
        {
          "output_type": "stream",
          "name": "stdout",
          "text": [
            "6\n"
          ]
        }
      ]
    },
    {
      "cell_type": "code",
      "source": [
        "def average(nu1,nu2,nu3):\n",
        "  sum=nu1+nu2+nu3\n",
        "  avg= sum/3\n",
        "  return avg"
      ],
      "metadata": {
        "id": "gHQOBmYGeWOp"
      },
      "execution_count": 33,
      "outputs": []
    },
    {
      "cell_type": "code",
      "source": [
        "average(1,2,5)"
      ],
      "metadata": {
        "colab": {
          "base_uri": "https://localhost:8080/"
        },
        "id": "NtkjxO9teq7z",
        "outputId": "99e50b6a-12c8-48f6-a809-aa44d65d235a"
      },
      "execution_count": 34,
      "outputs": [
        {
          "output_type": "execute_result",
          "data": {
            "text/plain": [
              "2.6666666666666665"
            ]
          },
          "metadata": {},
          "execution_count": 34
        }
      ]
    },
    {
      "cell_type": "code",
      "source": [
        "n =int(input(\"entrer une valeur strictement positif\"))\n",
        "for i in range(0,1) :\n",
        "      for j in range(1,n+1) :\n",
        "           s='*' *j\n",
        "           print(s)\n"
      ],
      "metadata": {
        "colab": {
          "base_uri": "https://localhost:8080/"
        },
        "id": "HHKUbmDBsLBM",
        "outputId": "1b3181b6-85a3-486f-d7d8-7641b597b78b"
      },
      "execution_count": 3,
      "outputs": [
        {
          "output_type": "stream",
          "name": "stdout",
          "text": [
            "entrer une valeur strictement positif5\n",
            "*\n",
            "**\n",
            "***\n",
            "****\n",
            "*****\n"
          ]
        }
      ]
    },
    {
      "cell_type": "code",
      "source": [
        "ch=input(\"définir un mot de passe\")\n",
        "ch2=input('entrer votre mot de passe')\n",
        "if ch2!=ch:\n",
        "    print('le mot de passe est incorrect, resaisissez le mot de passe')\n",
        "    ch2=input('entrer à nouveau')\n",
        "    if ch2==ch:\n",
        "        print('le mot de passe est correct')\n",
        "    else:\n",
        "        ch2=input('enter le mot de passe à nouveau')\n",
        "        if ch2==ch:\n",
        "            print('le mot de passe est correct')\n",
        "        else:\n",
        "            print('carte bancaire retenue')\n",
        "else:\n",
        "    print('le mot de passe correct')\n",
        "\n",
        "\n",
        "\n",
        ""
      ],
      "metadata": {
        "colab": {
          "base_uri": "https://localhost:8080/"
        },
        "id": "M_Wrh6ECuU-s",
        "outputId": "8de1bcda-5f14-4eac-a53d-cc97dd8111ea"
      },
      "execution_count": 7,
      "outputs": [
        {
          "output_type": "stream",
          "name": "stdout",
          "text": [
            "définir un mot de passe5\n",
            "entrer votre mot de passe5\n",
            "le mot de passe correct\n"
          ]
        }
      ]
    },
    {
      "cell_type": "code",
      "source": [
        "\n",
        "L = [11 , 2 , 7 , 31 , -5 , 12 , 13, -3]\n",
        "for x in L:\n",
        "\n",
        "    if x <= 0:\n",
        "        break\n",
        "    print(x)"
      ],
      "metadata": {
        "colab": {
          "base_uri": "https://localhost:8080/"
        },
        "id": "P05cqU3vwCcy",
        "outputId": "0b3c8a56-7e86-46a4-a8d9-97351802085a"
      },
      "execution_count": 9,
      "outputs": [
        {
          "output_type": "stream",
          "name": "stdout",
          "text": [
            "11\n",
            "2\n",
            "7\n",
            "31\n"
          ]
        }
      ]
    },
    {
      "cell_type": "code",
      "source": [
        "import random\n",
        "for i in range (10):\n",
        "  print(random.randint(0,10))"
      ],
      "metadata": {
        "colab": {
          "base_uri": "https://localhost:8080/"
        },
        "id": "GE72z7zE07Xt",
        "outputId": "f9bbc570-be42-4bec-90af-4c35a722942e"
      },
      "execution_count": 12,
      "outputs": [
        {
          "output_type": "stream",
          "name": "stdout",
          "text": [
            "6\n",
            "3\n",
            "5\n",
            "4\n",
            "4\n",
            "2\n",
            "10\n",
            "7\n",
            "6\n",
            "2\n"
          ]
        }
      ]
    }
  ]
}